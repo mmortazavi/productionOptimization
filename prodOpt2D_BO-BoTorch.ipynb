{
 "cells": [
  {
   "cell_type": "code",
   "execution_count": 7,
   "metadata": {},
   "outputs": [],
   "source": [
    "import torch\n",
    "import numpy as np\n",
    "\n",
    "\n",
    "import matplotlib.pyplot as plt\n",
    "\n",
    "from botorch.models import SingleTaskGP\n",
    "from gpytorch.mlls.exact_marginal_log_likelihood import ExactMarginalLogLikelihood\n",
    "from gpytorch.constraints import GreaterThan\n",
    "from botorch import fit_gpytorch_model\n",
    "\n",
    "from botorch import acquisition\n",
    "from botorch.acquisition.monte_carlo import qExpectedImprovement\n",
    "from botorch.optim import optimize_acqf"
   ]
  },
  {
   "cell_type": "markdown",
   "metadata": {},
   "source": [
    "### Objective Function\n"
   ]
  },
  {
   "cell_type": "code",
   "execution_count": 8,
   "metadata": {},
   "outputs": [
    {
     "name": "stderr",
     "output_type": "stream",
     "text": [
      "C:\\Users\\MajidMortazavi\\AppData\\Local\\Temp\\ipykernel_29684\\3117386671.py:17: UserWarning: To copy construct from a tensor, it is recommended to use sourceTensor.clone().detach() or sourceTensor.clone().detach().requires_grad_(True), rather than torch.tensor(sourceTensor).\n",
      "  train_y = torch.tensor(train_y)\n"
     ]
    }
   ],
   "source": [
    "def target_function(points, noise):\n",
    "\n",
    "    results = []\n",
    "    for x in points:\n",
    "        results.append(-np.sin(3*x) - x**2 + 0.7*x + noise)\n",
    "    return torch.tensor(results)\n",
    "\n",
    "\n",
    "def generate_initial_data(lower_bound, upper_bound, num_of_points, noise):\n",
    "\n",
    "    x = np.linspace(lower_bound, upper_bound, num_of_points)\n",
    "    train_x = x.reshape(num_of_points, -1)\n",
    "    train_y = target_function(train_x, noise)\n",
    "    best_observed_y = train_y.max().item()\n",
    "\n",
    "    train_x = torch.tensor(train_x)\n",
    "    train_y = torch.tensor(train_y)\n",
    "    \n",
    "    return train_x, train_y, best_observed_y\n",
    "\n",
    "# Dense grid of points within bounds\n",
    "train_x, train_y, best_observed_y = generate_initial_data(-2, 3, 50, 0)"
   ]
  },
  {
   "cell_type": "markdown",
   "metadata": {},
   "source": [
    "## Data"
   ]
  },
  {
   "cell_type": "code",
   "execution_count": 9,
   "metadata": {},
   "outputs": [
    {
     "data": {
      "image/png": "[encoded data removed]",
      "text/plain": [
       "<Figure size 576x432 with 1 Axes>"
      ]
     },
     "metadata": {},
     "output_type": "display_data"
    }
   ],
   "source": [
    "with plt.style.context('seaborn-white'):\n",
    "    plt.figure(figsize=(8, 6))\n",
    "    plt.scatter(train_x, train_y, c='k', linewidth=2)\n",
    "    plt.title('The function to be optimized')\n",
    "    plt.show()"
   ]
  },
  {
   "cell_type": "code",
   "execution_count": 16,
   "metadata": {},
   "outputs": [
    {
     "data": {
      "text/plain": [
       "tensor([0.5004], dtype=torch.float64)"
      ]
     },
     "execution_count": 16,
     "metadata": {},
     "output_type": "execute_result"
    }
   ],
   "source": [
    "target_function([-0.3599], 0)"
   ]
  },
  {
   "cell_type": "code",
   "execution_count": 17,
   "metadata": {},
   "outputs": [
    {
     "data": {
      "text/plain": [
       "tensor(0.5000, dtype=torch.float64)"
      ]
     },
     "execution_count": 17,
     "metadata": {},
     "output_type": "execute_result"
    }
   ],
   "source": [
    "train_y.max()"
   ]
  },
  {
   "cell_type": "markdown",
   "metadata": {},
   "source": [
    "### Next Experiment"
   ]
  },
  {
   "cell_type": "code",
   "execution_count": 10,
   "metadata": {},
   "outputs": [
    {
     "name": "stdout",
     "output_type": "stream",
     "text": [
      "The next point to be evaluated is tensor([[-0.3593]])\n"
     ]
    },
    {
     "data": {
      "text/plain": [
       "tensor([[-0.3593]])"
      ]
     },
     "execution_count": 10,
     "metadata": {},
     "output_type": "execute_result"
    }
   ],
   "source": [
    "def gen_next_point(init_x, init_y, best_init_y, bounds, n_points=1):\n",
    "    \n",
    "    \"\"\" \n",
    "    \n",
    "    A Function to generate the next point to be evaluated.\n",
    "\n",
    "    Args:\n",
    "        init_x: The initial point\n",
    "        init_y: The initial value of the function at the initial point\n",
    "        best_init_y: The best value of the function seen so far\n",
    "        bounds: The bounds of the function\n",
    "        n_points: The number of points to generate\n",
    "\n",
    "    Returns:\n",
    "        candidate: Potential next candidate to be evaluated\n",
    "    \"\"\"\n",
    "\n",
    "    model = SingleTaskGP(init_x, init_y)\n",
    "    model.likelihood.noise_covar.register_constraint(\"raw_noise\", GreaterThan(1e-5))\n",
    "    mll = ExactMarginalLogLikelihood(likelihood=model.likelihood, model=model)\n",
    "    fit_gpytorch_model(mll)\n",
    "\n",
    "    acquisition_func = acquisition.ExpectedImprovement(model=model, best_f= best_init_y)\n",
    "    # acquisition_func = qExpectedImprovement(model=model, best_f= best_init_y)\n",
    "\n",
    "    candidates, _ = optimize_acqf(acq_function=acquisition_func,\n",
    "                                    bounds=bounds,\n",
    "                                    q=n_points,\n",
    "                                    num_restarts=200,\n",
    "                                    raw_samples=512,\n",
    "                                    options={'batch_limit': 5, 'maxiter': 100})\n",
    "    \n",
    "    print(f\"The next point to be evaluated is {candidates}\")\n",
    "\n",
    "    return candidates\n",
    "\n",
    "\n",
    "bounds = torch.tensor([[-2.], [3.]])\n",
    "gen_next_point(train_x, train_y, best_observed_y, bounds)"
   ]
  },
  {
   "cell_type": "markdown",
   "metadata": {},
   "source": [
    "### Gaussian processes & Optimizing using expected improvement"
   ]
  },
  {
   "cell_type": "code",
   "execution_count": 11,
   "metadata": {},
   "outputs": [
    {
     "name": "stderr",
     "output_type": "stream",
     "text": [
      "C:\\Users\\MajidMortazavi\\AppData\\Local\\Temp\\ipykernel_29684\\3117386671.py:17: UserWarning: To copy construct from a tensor, it is recommended to use sourceTensor.clone().detach() or sourceTensor.clone().detach().requires_grad_(True), rather than torch.tensor(sourceTensor).\n",
      "  train_y = torch.tensor(train_y)\n"
     ]
    },
    {
     "name": "stdout",
     "output_type": "stream",
     "text": [
      "Nr. of Optimal Run: 0\n",
      "The next point to be evaluated is tensor([[-0.4079]])\n",
      "The new candidate are: tensor([[-0.4079]])\n",
      "The best observed value is: 0.49702654036345206\n",
      "Nr. of Optimal Run: 1\n",
      "The next point to be evaluated is tensor([[-0.3424]])\n",
      "The new candidate are: tensor([[-0.3424]])\n",
      "The best observed value is: 0.49893510341644287\n",
      "Nr. of Optimal Run: 2\n",
      "The next point to be evaluated is tensor([[-0.3623]])\n",
      "The new candidate are: tensor([[-0.3623]])\n",
      "The best observed value is: 0.5003171563148499\n",
      "Nr. of Optimal Run: 3\n",
      "The next point to be evaluated is tensor([[-0.3620]])\n",
      "The new candidate are: tensor([[-0.3620]])\n",
      "The best observed value is: 0.5003259181976318\n",
      "Nr. of Optimal Run: 4\n",
      "The next point to be evaluated is tensor([[-0.3615]])\n",
      "The new candidate are: tensor([[-0.3615]])\n",
      "The best observed value is: 0.5003377199172974\n",
      "Nr. of Optimal Run: 5\n",
      "The next point to be evaluated is tensor([[-0.3612]])\n",
      "The new candidate are: tensor([[-0.3612]])\n",
      "The best observed value is: 0.500343382358551\n",
      "Nr. of Optimal Run: 6\n",
      "The next point to be evaluated is tensor([[-0.3610]])\n",
      "The new candidate are: tensor([[-0.3610]])\n",
      "The best observed value is: 0.500346839427948\n",
      "Nr. of Optimal Run: 7\n",
      "The next point to be evaluated is tensor([[-0.3608]])\n",
      "The new candidate are: tensor([[-0.3608]])\n",
      "The best observed value is: 0.5003491640090942\n",
      "Nr. of Optimal Run: 8\n",
      "The next point to be evaluated is tensor([[-0.3607]])\n",
      "The new candidate are: tensor([[-0.3607]])\n",
      "The best observed value is: 0.5003509521484375\n",
      "Nr. of Optimal Run: 9\n",
      "The next point to be evaluated is tensor([[-0.3606]])\n",
      "The new candidate are: tensor([[-0.3606]])\n",
      "The best observed value is: 0.500352144241333\n",
      "Nr. of Optimal Run: 10\n",
      "The next point to be evaluated is tensor([[-0.3605]])\n",
      "The new candidate are: tensor([[-0.3605]])\n",
      "The best observed value is: 0.5003530979156494\n",
      "Nr. of Optimal Run: 11\n",
      "The next point to be evaluated is tensor([[-0.3605]])\n",
      "The new candidate are: tensor([[-0.3605]])\n",
      "The best observed value is: 0.500353991985321\n",
      "Nr. of Optimal Run: 12\n",
      "The next point to be evaluated is tensor([[-0.3604]])\n",
      "The new candidate are: tensor([[-0.3604]])\n",
      "The best observed value is: 0.500354528427124\n",
      "Nr. of Optimal Run: 13\n",
      "The next point to be evaluated is tensor([[-0.3603]])\n",
      "The new candidate are: tensor([[-0.3603]])\n",
      "The best observed value is: 0.5003551244735718\n",
      "Nr. of Optimal Run: 14\n",
      "The next point to be evaluated is tensor([[-0.3603]])\n",
      "The new candidate are: tensor([[-0.3603]])\n",
      "The best observed value is: 0.50035560131073\n",
      "Nr. of Optimal Run: 15\n",
      "The next point to be evaluated is tensor([[-0.3603]])\n",
      "The new candidate are: tensor([[-0.3603]])\n",
      "The best observed value is: 0.5003558993339539\n",
      "Nr. of Optimal Run: 16\n",
      "The next point to be evaluated is tensor([[-0.3602]])\n",
      "The new candidate are: tensor([[-0.3602]])\n",
      "The best observed value is: 0.5003563165664673\n",
      "Nr. of Optimal Run: 17\n",
      "The next point to be evaluated is tensor([[-0.3602]])\n",
      "The new candidate are: tensor([[-0.3602]])\n",
      "The best observed value is: 0.5003566145896912\n",
      "Nr. of Optimal Run: 18\n",
      "The next point to be evaluated is tensor([[-0.3601]])\n",
      "The new candidate are: tensor([[-0.3601]])\n",
      "The best observed value is: 0.5003568530082703\n",
      "Nr. of Optimal Run: 19\n",
      "The next point to be evaluated is tensor([[-0.3601]])\n",
      "The new candidate are: tensor([[-0.3601]])\n",
      "The best observed value is: 0.5003570318222046\n",
      "Nr. of Optimal Run: 20\n",
      "The next point to be evaluated is tensor([[-0.3601]])\n",
      "The new candidate are: tensor([[-0.3601]])\n",
      "The best observed value is: 0.5003572106361389\n",
      "Nr. of Optimal Run: 21\n",
      "The next point to be evaluated is tensor([[-0.3601]])\n",
      "The new candidate are: tensor([[-0.3601]])\n",
      "The best observed value is: 0.5003573894500732\n",
      "Nr. of Optimal Run: 22\n",
      "The next point to be evaluated is tensor([[-0.3600]])\n",
      "The new candidate are: tensor([[-0.3600]])\n",
      "The best observed value is: 0.5003576278686523\n",
      "Nr. of Optimal Run: 23\n",
      "The next point to be evaluated is tensor([[-0.3600]])\n",
      "The new candidate are: tensor([[-0.3600]])\n",
      "The best observed value is: 0.5003577470779419\n",
      "Nr. of Optimal Run: 24\n",
      "The next point to be evaluated is tensor([[-0.3600]])\n",
      "The new candidate are: tensor([[-0.3600]])\n",
      "The best observed value is: 0.5003579258918762\n",
      "Nr. of Optimal Run: 25\n",
      "The next point to be evaluated is tensor([[-0.3600]])\n",
      "The new candidate are: tensor([[-0.3600]])\n",
      "The best observed value is: 0.500357985496521\n",
      "Nr. of Optimal Run: 26\n",
      "The next point to be evaluated is tensor([[-0.3599]])\n",
      "The new candidate are: tensor([[-0.3599]])\n",
      "The best observed value is: 0.5003581047058105\n",
      "Nr. of Optimal Run: 27\n",
      "The next point to be evaluated is tensor([[-0.3599]])\n",
      "The new candidate are: tensor([[-0.3599]])\n",
      "The best observed value is: 0.5003582239151001\n",
      "Nr. of Optimal Run: 28\n",
      "The next point to be evaluated is tensor([[-0.3599]])\n",
      "The new candidate are: tensor([[-0.3599]])\n",
      "The best observed value is: 0.5003582835197449\n",
      "Nr. of Optimal Run: 29\n",
      "The next point to be evaluated is tensor([[-0.3599]])\n",
      "The new candidate are: tensor([[-0.3599]])\n",
      "The best observed value is: 0.5003584027290344\n"
     ]
    }
   ],
   "source": [
    "n_runs = 30\n",
    "\n",
    "# Dense grid of points within bounds\n",
    "init_x, init_y, best_observed_y = generate_initial_data(-2, 3, 10, 0)\n",
    "bounds = torch.tensor([[-2.], [3.]])\n",
    "\n",
    "for i in range(n_runs):\n",
    "    print(f\"Nr. of Optimal Run: {i}\")\n",
    "    new_candidates = gen_next_point(init_x, init_y, best_observed_y, bounds, 1)\n",
    "    new_results = target_function(new_candidates, 0).unsqueeze(-1)\n",
    "    print(f\"The new candidate are: {new_candidates}\")\n",
    "\n",
    "    init_x = torch.cat([init_x, new_candidates])\n",
    "    init_y = torch.cat([init_y, new_results])\n",
    "\n",
    "    best_observed_y = init_y.max().item()\n",
    "    print(f\"The best observed value is: {best_observed_y}\")"
   ]
  },
  {
   "cell_type": "markdown",
   "metadata": {},
   "source": [
    "### Compute posterior over test points and plot fit"
   ]
  },
  {
   "cell_type": "code",
   "execution_count": 12,
   "metadata": {},
   "outputs": [],
   "source": [
    "from matplotlib import pyplot as plt\n",
    "%matplotlib inline\n",
    "\n",
    "# use a GPU if available\n",
    "device = torch.device(\"cuda\" if torch.cuda.is_available() else \"cpu\")\n",
    "dtype = torch.float"
   ]
  },
  {
   "cell_type": "code",
   "execution_count": 127,
   "metadata": {},
   "outputs": [
    {
     "name": "stderr",
     "output_type": "stream",
     "text": [
      "C:\\Users\\MajidMortazavi\\AppData\\Local\\Temp\\ipykernel_24912\\987756712.py:17: UserWarning: To copy construct from a tensor, it is recommended to use sourceTensor.clone().detach() or sourceTensor.clone().detach().requires_grad_(True), rather than torch.tensor(sourceTensor).\n",
      "  train_y = torch.tensor(train_y)\n"
     ]
    },
    {
     "data": {
      "text/plain": [
       "SingleTaskGP(\n",
       "  (likelihood): GaussianLikelihood(\n",
       "    (noise_covar): HomoskedasticNoise(\n",
       "      (noise_prior): GammaPrior()\n",
       "      (raw_noise_constraint): GreaterThan(1.000E-05)\n",
       "    )\n",
       "  )\n",
       "  (mean_module): ConstantMean()\n",
       "  (covar_module): ScaleKernel(\n",
       "    (base_kernel): MaternKernel(\n",
       "      (lengthscale_prior): GammaPrior()\n",
       "      (raw_lengthscale_constraint): Positive()\n",
       "      (distance_module): Distance()\n",
       "    )\n",
       "    (outputscale_prior): GammaPrior()\n",
       "    (raw_outputscale_constraint): Positive()\n",
       "  )\n",
       ")"
      ]
     },
     "execution_count": 127,
     "metadata": {},
     "output_type": "execute_result"
    }
   ],
   "source": [
    "lower_bound = -2\n",
    "upper_bound = 3\n",
    "num_of_points = 10\n",
    "noise = 0\n",
    "\n",
    "train_X, train_Y, best_observed_y = generate_initial_data(lower_bound, upper_bound, num_of_points, noise)\n",
    "\n",
    "model = SingleTaskGP(train_X, train_Y)\n",
    "model.likelihood.noise_covar.register_constraint(\"raw_noise\", GreaterThan(1e-5))\n",
    "mll = ExactMarginalLogLikelihood(likelihood=model.likelihood, model=model)\n",
    "fit_gpytorch_model(mll)\n",
    "\n",
    "# set model (and likelihood)\n",
    "model.eval()"
   ]
  },
  {
   "cell_type": "code",
   "execution_count": 128,
   "metadata": {},
   "outputs": [
    {
     "data": {
      "image/png": "[encoded data removed]",
      "text/plain": [
       "<Figure size 432x288 with 1 Axes>"
      ]
     },
     "metadata": {
      "needs_background": "light"
     },
     "output_type": "display_data"
    }
   ],
   "source": [
    "# Initialize plot\n",
    "f, ax = plt.subplots(1, 1, figsize=(6, 4))\n",
    "# test model on 101 regular spaced points on the interval [0, 1]\n",
    "test_X = torch.linspace(lower_bound, upper_bound, 101, dtype=dtype, device=device)\n",
    "# no need for gradients\n",
    "with torch.no_grad():\n",
    "    # compute posterior\n",
    "    posterior = model.posterior(test_X)\n",
    "    # Get upper and lower confidence bounds (2 standard deviations from the mean)\n",
    "    lower, upper = posterior.mvn.confidence_region()\n",
    "    # Plot training points as black stars\n",
    "    ax.plot(train_X.cpu().numpy(), train_Y.cpu().numpy(), 'k*')\n",
    "    # Plot posterior means as blue line\n",
    "    ax.plot(test_X.cpu().numpy(), posterior.mean.cpu().numpy(), 'b')\n",
    "    # Shade between the lower and upper confidence bounds\n",
    "    ax.fill_between(test_X.cpu().numpy(), lower.cpu().numpy(), upper.cpu().numpy(), alpha=0.5)\n",
    "ax.legend(['Observed Data', 'Mean', 'Confidence'])\n",
    "plt.tight_layout()"
   ]
  }
 ],
 "metadata": {
  "interpreter": {
   "hash": "1cec7fc414c187ad0b3c0f27a16e3096a1cfa1cd0024c1dbde9fd5cb0872fea3"
  },
  "kernelspec": {
   "display_name": "Python 3.9.10 ('venv': venv)",
   "language": "python",
   "name": "python3"
  },
  "language_info": {
   "codemirror_mode": {
    "name": "ipython",
    "version": 3
   },
   "file_extension": ".py",
   "mimetype": "text/x-python",
   "name": "python",
   "nbconvert_exporter": "python",
   "pygments_lexer": "ipython3",
   "version": "3.9.10"
  },
  "toc-autonumbering": true
 },
 "nbformat": 4,
 "nbformat_minor": 4
}
